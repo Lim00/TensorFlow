{
 "cells": [
  {
   "cell_type": "code",
   "execution_count": 1,
   "metadata": {
    "collapsed": false
   },
   "outputs": [
    {
     "name": "stdout",
     "output_type": "stream",
     "text": [
      "x [[ 1.  1.  1.  1.  1.]\n",
      " [ 1.  0.  3.  0.  5.]\n",
      " [ 0.  2.  0.  4.  0.]]\n",
      "y [ 1.  2.  3.  4.  5.]\n",
      "WARNING:tensorflow:From <ipython-input-1-f403649f8ff1>:26: initialize_all_variables (from tensorflow.python.ops.variables) is deprecated and will be removed after 2017-03-02.\n",
      "Instructions for updating:\n",
      "Use `tf.global_variables_initializer` instead.\n",
      "0 36.2964 [[ 2.7342155   2.30303931 -1.12413633]]\n",
      "60 0.63005 [[ 1.88169312  0.50536227  0.41304517]]\n",
      "120 0.325362 [[ 1.35222387  0.64453846  0.57824755]]\n",
      "180 0.16802 [[ 0.97172815  0.74456     0.69692248]]\n",
      "240 0.0867665 [[ 0.69829834  0.81643701  0.78220391]]\n",
      "300 0.0448068 [[ 0.50180745  0.86808902  0.84348863]]\n",
      "360 0.0231386 [[ 0.36060637  0.9052068   0.88752854]]\n",
      "420 0.011949 [[ 0.25913715  0.93188012  0.91917628]]\n",
      "480 0.00617053 [[ 0.18621983  0.95104808  0.94191891]]\n",
      "540 0.00318651 [[ 0.13382033  0.96482235  0.95826203]]\n",
      "600 0.00164553 [[ 0.09616525  0.97472084  0.97000647]]\n",
      "660 0.000849765 [[ 0.06910579  0.98183399  0.97844619]]\n",
      "720 0.000438825 [[ 0.04966043  0.98694569  0.98451114]]\n",
      "780 0.000226612 [[ 0.03568666  0.990619    0.98886955]]\n",
      "840 0.000117024 [[ 0.02564495  0.99325866  0.99200141]]\n",
      "900 6.04321e-05 [[ 0.01842888  0.99515557  0.99425215]]\n",
      "960 3.12081e-05 [[ 0.01324327  0.99651873  0.99586952]]\n",
      "1020 1.61158e-05 [[ 0.00951677  0.99749833  0.99703181]]\n",
      "1080 8.32238e-06 [[ 0.00683897  0.9982022   0.99786699]]\n",
      "1140 4.29806e-06 [[ 0.00491462  0.99870813  0.99846715]]\n",
      "1200 2.2193e-06 [[ 0.0035317   0.9990716   0.99889851]]\n",
      "1260 1.14607e-06 [[ 0.00253793  0.99933285  0.99920845]]\n",
      "1320 5.91883e-07 [[ 0.00182382  0.99952054  0.99943119]]\n",
      "1380 3.05665e-07 [[ 0.00131062  0.99965549  0.99959117]]\n",
      "1440 1.57867e-07 [[  9.41951119e-04   9.99752343e-01   9.99706149e-01]]\n",
      "1500 8.15723e-08 [[  6.76998403e-04   9.99822080e-01   9.99788880e-01]]\n",
      "1560 4.21472e-08 [[  4.86628502e-04   9.99872029e-01   9.99848187e-01]]\n",
      "1620 2.17686e-08 [[  3.49793874e-04   9.99908090e-01   9.99890804e-01]]\n",
      "1680 1.12631e-08 [[  2.51536607e-04   9.99933839e-01   9.99921501e-01]]\n",
      "1740 5.81703e-09 [[  1.80864474e-04   9.99952435e-01   9.99943495e-01]]\n",
      "1800 3.01652e-09 [[  1.30217508e-04   9.99965727e-01   9.99959350e-01]]\n",
      "1860 1.55785e-09 [[  9.36750512e-05   9.99975324e-01   9.99970853e-01]]\n",
      "1920 8.12236e-10 [[  6.74838302e-05   9.99982297e-01   9.99978840e-01]]\n",
      "1980 4.20607e-10 [[  4.85564451e-05   9.99987185e-01   9.99984801e-01]]\n",
      "2040 2.19165e-10 [[  3.51814488e-05   9.99990821e-01   9.99988854e-01]]\n",
      "2100 1.12482e-10 [[  2.52190821e-05   9.99993384e-01   9.99992251e-01]]\n",
      "2160 5.77217e-11 [[  1.80256175e-05   9.99995232e-01   9.99994397e-01]]\n",
      "2220 3.00247e-11 [[  1.30551643e-05   9.99996483e-01   9.99995887e-01]]\n",
      "2280 1.65443e-11 [[  9.62279591e-06   9.99997377e-01   9.99996901e-01]]\n",
      "2340 9.34506e-12 [[  7.23756193e-06   9.99998033e-01   9.99997675e-01]]\n",
      "2400 5.65024e-12 [[  5.61622119e-06   9.99998450e-01   9.99998093e-01]]\n"
     ]
    }
   ],
   "source": [
    "import tensorflow as tf\n",
    "import numpy as np\n",
    "\n",
    "# Load from outside textfiles\n",
    "xy = np.loadtxt('train.txt', unpack=True, dtype='float32')\n",
    "\n",
    "# Using textfile form\n",
    "x_data = xy[0:-1] # Get everything from each row except the last one\n",
    "y_data = xy[-1] #Get the last one from each row\n",
    "\n",
    "print 'x', x_data\n",
    "print 'y', y_data\n",
    "\n",
    "W = tf.Variable(tf.random_uniform([1, len(x_data)], -3.0, 3.0))\n",
    "\n",
    "# Hypothesis\n",
    "hypothesis = tf.matmul(W, x_data) # 'b' is included in the file(x0)\n",
    "\n",
    "# Simplified cost function\n",
    "cost = tf.reduce_mean(tf.square(hypothesis - y_data))\n",
    "\n",
    "# Minimize\n",
    "a = tf.Variable(0.018) # Learning rate\n",
    "optimizer = tf.train.GradientDescentOptimizer(a)\n",
    "train = optimizer.minimize(cost)\n",
    "init = tf.initialize_all_variables()\n",
    "\n",
    "# Launch the graph\n",
    "sess = tf.Session()\n",
    "sess.run(init)\n",
    "\n",
    "# Fit the line\n",
    "for step in xrange(2401):\n",
    "    sess.run(train)\n",
    "    \n",
    "    if step % 60 == 0:\n",
    "        print step, sess.run(cost), sess.run(W)"
   ]
  },
  {
   "cell_type": "code",
   "execution_count": null,
   "metadata": {
    "collapsed": true
   },
   "outputs": [],
   "source": []
  }
 ],
 "metadata": {
  "kernelspec": {
   "display_name": "Python 2",
   "language": "python",
   "name": "python2"
  },
  "language_info": {
   "codemirror_mode": {
    "name": "ipython",
    "version": 2
   },
   "file_extension": ".py",
   "mimetype": "text/x-python",
   "name": "python",
   "nbconvert_exporter": "python",
   "pygments_lexer": "ipython2",
   "version": "2.7.6"
  }
 },
 "nbformat": 4,
 "nbformat_minor": 2
}
