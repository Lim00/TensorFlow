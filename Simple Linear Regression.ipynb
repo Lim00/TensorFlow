{
 "cells": [
  {
   "cell_type": "code",
   "execution_count": null,
   "metadata": {
    "collapsed": false
   },
   "outputs": [
    {
     "name": "stdout",
     "output_type": "stream",
     "text": [
      "WARNING:tensorflow:From <ipython-input-2-e79acbb1314f>:23: initialize_all_variables (from tensorflow.python.ops.variables) is deprecated and will be removed after 2017-03-02.\n",
      "Instructions for updating:\n",
      "Use `tf.global_variables_initializer` instead.\n",
      "0 0.430956 [ 0.86957425] [ 0.51452929]\n",
      "100 0.0195644 [ 1.12244213] [ 0.25411147]\n",
      "200 0.00605839 [ 1.16557467] [ 0.09838962]\n",
      "300 0.00258143 [ 1.18745935] [ 0.01937889]\n",
      "400 0.00168632 [ 1.19856322] [-0.02070971]\n",
      "500 0.00145588 [ 1.20419729] [-0.0410501]\n",
      "600 0.00139657 [ 1.20705581] [-0.05137042]\n",
      "700 0.0013813 [ 1.20850623] [-0.05660684]\n",
      "800 0.00137737 [ 1.20924211] [-0.05926367]\n",
      "900 0.00137636 [ 1.20961547] [-0.06061155]\n",
      "1000 0.00137609 [ 1.20980489] [-0.0612955]\n",
      "1100 0.00137603 [ 1.20990109] [-0.06164258]\n",
      "1200 0.00137601 [ 1.20994985] [-0.06181862]\n",
      "1300 0.00137601 [ 1.20997453] [-0.061908]\n",
      "1400 0.00137601 [ 1.20998716] [-0.06195335]\n",
      "1500 0.00137601 [ 1.20999348] [-0.06197638]\n",
      "1600 0.00137601 [ 1.20999658] [-0.06198776]\n",
      "1700 0.00137601 [ 1.20999813] [-0.06199338]\n",
      "1800 0.001376 [ 1.20999885] [-0.06199618]\n",
      "1900 0.00137601 [ 1.2099992] [-0.06199737]\n",
      "2000 0.00137601 [ 1.20999944] [-0.06199797]\n"
     ]
    }
   ],
   "source": [
    "import tensorflow as tf\n",
    "\n",
    "xData = [1, 2, 3, 4, 5]\n",
    "yData = [1.2, 2.3, 3.55, 4.78, 6.01]\n",
    "\n",
    "# Try to find values for W and b that compute yData = W * xData + b\n",
    "W = tf.Variable(tf.random_uniform([1], -1.0, 1.0))\n",
    "b = tf.Variable(tf.random_uniform([1], -1.0, 1.0))\n",
    "\n",
    "# Hypothesis\n",
    "hypothesis = W * xData + b\n",
    "\n",
    "# Simplified cost function\n",
    "cost = tf.reduce_mean(tf.square(hypothesis - yData))\n",
    "\n",
    "# Minimize\n",
    "a = tf.Variable(0.02) # learning tate alpha\n",
    "optimizer = tf.train.GradientDescentOptimizer(a)\n",
    "train = optimizer.minimize(cost)\n",
    "\n",
    "# Before starting, initialize the variables. 'Run' this first\n",
    "# Change the method after 2017/03/02\n",
    "init = tf.initialize_all_variables()\n",
    "\n",
    "# Launch the graph\n",
    "sess = tf.Session()\n",
    "sess.run(init)\n",
    "\n",
    "# Find the line\n",
    "for step in xrange(2001):\n",
    "    epsilon = sess.run(cost)\n",
    "    sess.run(train)\n",
    "    \n",
    "    if step % 100 == 0:\n",
    "        print step, sess.run(cost), sess.run(W), sess.run(b)\n",
    "        "
   ]
  },
  {
   "cell_type": "code",
   "execution_count": null,
   "metadata": {
    "collapsed": true
   },
   "outputs": [],
   "source": []
  }
 ],
 "metadata": {
  "kernelspec": {
   "display_name": "Python 2",
   "language": "python",
   "name": "python2"
  },
  "language_info": {
   "codemirror_mode": {
    "name": "ipython",
    "version": 2
   },
   "file_extension": ".py",
   "mimetype": "text/x-python",
   "name": "python",
   "nbconvert_exporter": "python",
   "pygments_lexer": "ipython2",
   "version": "2.7.6"
  }
 },
 "nbformat": 4,
 "nbformat_minor": 2
}
